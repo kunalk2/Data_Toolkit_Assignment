{
  "nbformat": 4,
  "nbformat_minor": 0,
  "metadata": {
    "colab": {
      "provenance": []
    },
    "kernelspec": {
      "name": "python3",
      "display_name": "Python 3"
    },
    "language_info": {
      "name": "python"
    }
  },
  "cells": [
    {
      "cell_type": "markdown",
      "source": [
        "***Q1. What is NumPy, and why is it widely used in Python?***\n",
        "\n",
        "Ans. NumPy, short for Numerical Python, is a fundamental library for numerical and scientific computing in Python. It provides support for multi-dimensional arrays and matrices, along with a collection of mathematical functions to operate on these arrays efficiently.\n",
        "\n",
        "NumPy is widely used due to several key advantages:\n",
        "* Efficiency:\n",
        "NumPy arrays are implemented in C, making operations on them significantly faster than with standard Python lists, especially for large datasets.\n",
        "* Functionality:\n",
        "NumPy offers a rich set of functions for linear algebra, Fourier transforms, random number generation, and more.\n",
        "* Integration:\n",
        "NumPy is a core dependency for many other scientific computing libraries in Python, such as SciPy, pandas, and scikit-learn, making it an essential tool for data analysis, machine learning, and scientific research.\n",
        "* Memory efficiency:\n",
        "NumPy arrays store data in contiguous memory blocks, allowing for faster access and manipulation compared to Python lists.\n",
        "* Vectorization:\n",
        "NumPy enables vectorized operations, which apply functions to entire arrays without explicit loops, resulting in cleaner and more efficient code.\n",
        "\n",
        "---\n",
        "***Q2. How does broadcasting work in NumPy?***\n",
        "\n",
        "Ans. Broadcasting in NumPy enables arithmetic operations between arrays with different shapes. NumPy automatically expands the dimensions of the smaller array to match the larger array, without copying data, making operations efficient.\n",
        "\n",
        "The rules of broadcasting are:\n",
        "* Shape Comparison: NumPy compares the shapes of arrays element-wise, starting from the trailing dimensions.\n",
        "Dimension Compatibility: Two dimensions are compatible if they are equal or one of them is 1.\n",
        "* Broadcasting: If dimensions are compatible but unequal, NumPy stretches the dimension of size 1 to match the other dimension.\n",
        "* Error: If dimensions are incompatible and neither is 1, NumPy raises an error.\n",
        "\n",
        "---\n",
        "***Q3. What is a Pandas DataFrame?***\n",
        "\n",
        "Ans. A Pandas DataFrame is a two-dimensional, size-mutable data structure with labeled rows and columns. It is a fundamental data structure in the Pandas library, widely used for data manipulation and analysis in Python. DataFrames can store heterogeneous data, meaning columns can have different data types (e.g., integers, strings, booleans). They are similar to tables in SQL or spreadsheets, providing a flexible and intuitive way to represent and work with structured data.\n",
        "\n",
        "---\n",
        "***Q4. Explain the use of the groupby() method in Pandas?***\n",
        "\n",
        "Ans. The groupby() method in Pandas is used to group rows in a DataFrame based on the values in one or more columns. It facilitates the split-apply-combine strategy for data analysis. This involves splitting the data into groups, applying a function to each group independently, and then combining the results back into a single DataFrame.\n",
        "\n",
        "---\n",
        "***Q5. Why is Seaborn preferred for statistical visualizations?***\n",
        "\n",
        "Ans. Seaborn is a Python data visualization library built on top of Matplotlib, favored for its focus on statistical graphics and ease of use. It simplifies the creation of informative and visually appealing plots with less code compared to Matplotlib. Seaborn's key strengths include its ability to handle Pandas DataFrames directly, its aesthetically pleasing default styles, and its high-level functions for complex statistical visualizations. These features make it an efficient tool for exploratory data analysis and presenting data insights.\n",
        "\n",
        "---\n",
        "***Q6. What are the differences between NumPy arrays and Python lists?***\n",
        "\n",
        "Ans. NumPy arrays and Python lists are both used to store collections of data, but they have key differences that make them suitable for different purposes:\n",
        "* Data Type:\n",
        "NumPy arrays are homogeneous, meaning they can only store elements of the same data type. Python lists, on the other hand, are heterogeneous and can store elements of different data types within the same list.\n",
        "* Memory Efficiency:\n",
        "NumPy arrays are more memory-efficient than Python lists, especially for large datasets. NumPy stores elements in a contiguous block of memory, while Python lists store them as separate objects scattered in memory.\n",
        "* Performance:\n",
        "NumPy arrays are significantly faster than Python lists for numerical operations. NumPy's vectorized operations allow calculations to be performed on entire arrays at once, without explicit looping.\n",
        "Size:\n",
        "NumPy arrays have a fixed size upon creation, while Python lists can dynamically grow or shrink as needed.\n",
        "* Functionality:\n",
        "NumPy provides a wide range of built-in functions for array manipulation, linear algebra, Fourier transforms, and random number generation. Python lists have fewer built-in functionalities.\n",
        "* Modification:\n",
        "Python lists are easier to modify. Since a list stores each element individually, it is easier to add and delete an element than in an array.\n",
        "\n",
        "---\n",
        "***Q7. What is a heatmap, and when should it be used?***\n",
        "\n",
        "Ans. A heatmap is a data visualization technique that uses color to represent the magnitude of values in a two-dimensional grid. It's a way to visualize complex data by using different colors or shades to represent different values, making it easy to spot patterns and trends. Heatmaps are commonly used to analyze user behavior on websites, identify areas of high engagement, and improve website design.\n",
        "\n",
        "---\n",
        "***Q8. What does the term “vectorized operation” mean in NumPy?***\n",
        "\n",
        "Ans. In NumPy, a vectorized operation refers to performing an operation on entire arrays (or array sections) at once, instead of processing individual elements through loops. This approach significantly enhances computational efficiency, particularly when dealing with large datasets. NumPy achieves vectorization by leveraging optimized, low-level code (often written in C or Fortran) that operates on contiguous memory blocks.\n",
        "\n",
        "---\n",
        "***Q9. How does Matplotlib differ from Plotly?***\n",
        "\n",
        "Ans. Matplotlib and Plotly are both Python libraries used for data visualization, but they differ significantly in their approach and capabilities:\n",
        "1. Matplotlib:\n",
        "* It is a static plotting library, meaning it creates images that do not support user interaction.\n",
        "* It provides extensive customization options, allowing fine-grained control over every aspect of a plot.\n",
        "* It is well-suited for creating publication-quality figures and for embedding plots in other applications.\n",
        "* It can be more verbose, requiring more code to create complex visualizations.\n",
        "2. Plotly:\n",
        "* It is an interactive plotting library, meaning it creates plots that allow users to zoom, pan, hover, and interact with data.\n",
        "* It offers a simpler syntax for creating common plot types, making it easier to get started.\n",
        "* It is well-suited for creating web-based visualizations and dashboards.\n",
        "* It may have limitations in terms of customization compared to Matplotlib.\n",
        "\n",
        "---\n",
        "***Q10. What is the significance of hierarchical indexing in Pandas?***\n",
        "\n",
        "Ans. Hierarchical indexing, also known as MultiIndex, is a feature in Pandas that allows for multiple levels of indexing within a DataFrame or Series. It enables the representation of higher-dimensional data in a tabular format, facilitating complex data analysis and manipulation.\n",
        "\n",
        "The significance of hierarchical indexing lies in its ability to:\n",
        "* Organize and structure data:\n",
        "It allows for the grouping of data by multiple categories or levels, creating a clear and intuitive data structure.\n",
        "* Enable efficient data selection and slicing:\n",
        "Hierarchical indexing facilitates the selection of subsets of data based on multiple index levels, making data retrieval more efficient. Methods like .loc and .xs are particularly useful for this.\n",
        "* Support complex data analysis:\n",
        "It simplifies operations such as aggregation, pivoting, and reshaping of data across multiple dimensions.\n",
        "* Represent high-dimensional data:\n",
        "It enables the representation of data with more than two dimensions within the confines of a two-dimensional DataFrame.\n",
        "* Improve performance:\n",
        "By organizing data hierarchically, it can lead to performance improvements in certain operations compared to non-indexed data structures.\n",
        "* Preserve relationships:\n",
        "It can help in preserving relationships between data points.\n",
        "\n",
        "---\n",
        "***Q11. What is the role of Seaborn’s pairplot() function?***\n",
        "\n",
        "Ans.The pairplot() function in Seaborn is used to visualize pairwise relationships between variables in a dataset. It creates a grid of subplots, where each subplot shows the relationship between two different variables.\n",
        "\n",
        "Here's a breakdown of its role:\n",
        "1. Purpose:\n",
        "* Exploratory Data Analysis (EDA):\n",
        "pairplot() is a powerful tool for quickly exploring and understanding the relationships between multiple variables in a dataset.\n",
        "* Identifying Patterns:\n",
        "It helps to visually identify patterns, trends, and correlations between variables.\n",
        "* Feature Selection:\n",
        "By visualizing relationships, it can aid in selecting relevant features for machine learning models.\n",
        "* Distribution of Variables:\n",
        "The diagonal plots in the grid show the distribution of each individual variable.\n",
        "2. Functionality:\n",
        "* Grid Structure:\n",
        "It generates an N x N grid of subplots, where N is the number of numeric variables in the dataset.\n",
        "* Scatter Plots:\n",
        "Off-diagonal subplots display scatter plots, showing the relationship between two variables.\n",
        "* Histograms/KDE:\n",
        "Diagonal subplots show the distribution of each variable using histograms or kernel density estimates (KDEs).\n",
        "* Customization:\n",
        "pairplot() allows customization of the plots, including the use of different markers, colors, and plot types for the diagonal and off-diagonal subplots.\n",
        "Benefits:\n",
        "* Concise Visualization:\n",
        "It summarizes a large amount of data into a single figure, making it easier to understand.\n",
        "* Efficient Exploration:\n",
        "It allows for efficient exploration of relationships between multiple variables simultaneously.\n",
        "* Data Understanding:\n",
        "It provides valuable insights into the underlying structure and relationships within the data.\n",
        "\n",
        "---\n",
        "***Q12. What is the purpose of the describe() function in Pandas?***\n",
        "\n",
        "Ans. The describe() function in Pandas is used to generate descriptive statistics of a DataFrame or Series. It provides a quick summary of key statistical metrics, such as:\n",
        "* count: The number of non-null values.\n",
        "* mean: The average value.\n",
        "* std: The standard deviation, measuring the dispersion of the data.\n",
        "* min: The minimum value.\n",
        "* 25%: The first quartile (25th percentile).\n",
        "* 50%: The median (50th percentile).\n",
        "* 75%: The third quartile (75th percentile).\n",
        "* max: The maximum value.\n",
        "\n",
        "By default, describe() works with numeric columns, but it can also handle categorical data when the include parameter is set to all or object types.\n",
        "\n",
        "---\n",
        "***Q13. Why is handling missing data important in Pandas?***\n",
        "\n",
        "Ans. Handling missing data in Pandas is crucial because it ensures the integrity and reliability of data analysis. Missing values, often represented as NaN (Not a Number), can arise from various reasons such as data entry errors, technical issues during collection, or incomplete records. If left unaddressed, these missing values can lead to several problems:\n",
        "\n",
        "Impact of Missing Data:\n",
        "* Skewed Analysis:\n",
        "Missing data can distort statistical analysis and lead to misleading conclusions. For example, calculating the mean of a column with missing values without proper handling can result in an inaccurate representation of the data.\n",
        "* Biased Models:\n",
        "Many machine learning algorithms cannot handle missing values directly. If not addressed, these values can introduce biases into the model, leading to inaccurate predictions and unreliable results.\n",
        "* Reduced Statistical Power:\n",
        "Missing data can reduce the statistical power of a study, making it harder to detect meaningful patterns or relationships in the data.\n",
        "* Inaccurate Visualizations:\n",
        "Missing data can lead to incomplete or misleading visualizations, affecting the interpretation of the data.\n",
        "* Errors in Data Processing:\n",
        "Missing values can cause errors or unexpected results during data processing and manipulation tasks.\n",
        "\n",
        "---\n",
        "***Q14. What are the benefits of using Plotly for data visualization?***\n",
        "\n",
        "Ans. Plotly is a powerful data visualization library in Python that offers several benefits:\n",
        "* Interactivity: Plotly allows users to create interactive plots with features like zooming, panning, hovering, and tooltips. This makes it ideal for exploratory data analysis and engaging presentations.\n",
        "* Versatility: Plotly supports a wide range of chart types, including basic charts like bar charts, line graphs, and scatter plots, as well as more complex visualizations like 3D plots, heatmaps, and geographical maps.\n",
        "* Customization: Plotly offers extensive styling options, enabling users to tailor visualizations to their specific needs. Users can customize colors, fonts, layouts, and more.\n",
        "* Ease of Use: Plotly's syntax is intuitive, making it easy to create visualizations, even for users with minimal programming experience. Plotly Express simplifies the process further.\n",
        "* Web-based: Plotly visualizations can be easily embedded in web applications and shared online, maintaining their interactive features. It also integrates well with Jupyter Notebooks and web frameworks like Dash and Flask.\n",
        "* Integration: Plotly seamlessly integrates with popular data science libraries such as Pandas and NumPy.\n",
        "* Export Options: Plotly supports exporting visualizations to various formats, including static images and HTML files.\n",
        "* Open-Source: Plotly is free and open-source, with a helpful community providing support.\n",
        "\n",
        "---\n",
        "***Q15. How does NumPy handle multidimensional arrays?***\n",
        "\n",
        "Ans. NumPy's core data structure for handling multidimensional arrays is the ndarray. Here's how it works:\n",
        "1. Homogeneous Data:\n",
        "NumPy arrays store elements of the same data type. This allows for efficient storage and computation.\n",
        "Data types can include integers, floats, booleans, or even complex numbers.\n",
        "2. N-Dimensional Structure:\n",
        "ndarray can represent arrays of any dimension, from 1D vectors to higher-dimensional structures like matrices and tensors.\n",
        "The number of dimensions is known as the array's \"rank\".\n",
        "Each dimension has a specific size, and the combination of these sizes forms the array's \"shape\".\n",
        "3. Underlying Storage:\n",
        "NumPy stores array data in a contiguous block of memory.\n",
        "This allows for fast access and manipulation of elements.\n",
        "Multidimensional arrays are stored as a flattened 1D array in memory. NumPy keeps track of the shape and strides to interpret the data correctly.\n",
        "4. Indexing and Slicing:\n",
        "Elements can be accessed using their indices, starting from 0.\n",
        "Slicing allows for efficient access and manipulation of subarrays.\n",
        "NumPy uses row-major indexing.\n",
        "5. Reshaping:\n",
        "The reshape() function can change the array's shape without changing the underlying data.\n",
        "This allows to view the same data in different ways.\n",
        "6. Operations:\n",
        "NumPy provides a wide variety of functions for performing mathematical operations on arrays, including element-wise operations, linear algebra, and statistical analysis.\n",
        "These operations are optimized for performance and can be applied to multidimensional arrays.\n",
        "7. Memory Efficiency:\n",
        "NumPy's efficient memory management and optimized functions make it suitable for handling large datasets.\n",
        "Operations can be done in-place, minimizing memory usage.\n",
        "8. Data Types:\n",
        "NumPy supports different data types, which can be specified when creating the array.\n",
        "This allows for fine-grained control over memory usage and precision.\n",
        "9. Views vs. Copies:\n",
        "Slicing and reshaping often create views of the original array, meaning that changes to the view will affect the original array.\n",
        "Some operations create copies, which are independent of the original array.\n",
        "\n",
        "---\n",
        "***Q16. What is the role of Bokeh in data visualization?***\n",
        "\n",
        "Ans. Bokeh is a Python library that facilitates creating interactive and elegant visualizations, particularly those suitable for web applications and dashboards. It allows users to build a wide range of charts and plots, from simple to complex, with a focus on high-performance interactivity and integration with web technologies.\n",
        "\n",
        "Key Features and Benefits:\n",
        "* Interactivity:\n",
        "Bokeh's core strength lies in its ability to create interactive visualizations that respond to user actions like zooming, panning, and hovering. This allows users to explore data in a more dynamic and engaging way.\n",
        "* Web-Based Output:\n",
        "Bokeh outputs visualizations as HTML and JavaScript, making them easily embeddable in web applications, dashboards, or Jupyter notebooks.\n",
        "* High Performance:\n",
        "Bokeh is optimized for handling large and streaming datasets, ensuring smooth and efficient interactivity, even with extensive data.\n",
        "* Flexibility:\n",
        "Bokeh supports various plotting styles and customization options, enabling users to create tailored visualizations for specific needs.\n",
        "* Integration with Other Libraries:\n",
        "Bokeh integrates seamlessly with popular Python libraries like Pandas and Jupyter Notebook, streamlining the data analysis and visualization workflow.\n",
        "* Server-Based Applications:\n",
        "Bokeh can be used to create server-backed applications, allowing for real-time updates and dynamic visualizations based on user input or data changes.\n",
        "* Standalone HTML:\n",
        "Bokeh can also generate standalone HTML pages with embedded visualizations, making them easily shareable and deployable.\n",
        "\n",
        "---\n",
        "***Q17. Explain the difference between apply() and map() in Pandas.***\n",
        "\n",
        "Ans. map() and apply() are both methods in Pandas used for applying functions to data, but they operate on different objects and in different ways.\n",
        "1. map()\n",
        "* Applies to: Pandas Series only.\n",
        "* Purpose: Used for element-wise transformations on a Series. It substitutes each value in a Series with another value, based on a mapping.\n",
        "* Input: Accepts a dictionary, a Series, or a callable function.\n",
        "* Behavior: It applies the mapping or function to each element of the Series.\n",
        "* Use Case: Ideal for simple one-to-one value transformations or substitutions.\n",
        "2. apply()\n",
        "* Applies to: Both Pandas Series and DataFrames.\n",
        "* Purpose: Used for more complex operations along an axis (rows or columns) of a DataFrame or on values of a Series.\n",
        "* Input: Accepts a callable function.\n",
        "* Behavior: It applies the function along the specified axis of a DataFrame or element-wise on a Series.\n",
        "* Use Case: Suitable for operations that require row-wise or column-wise computations or more complex transformations.\n",
        "\n",
        "---\n",
        "***Q18. What are some advanced features of NumPy?***\n",
        "\n",
        "Ans. NumPy, a fundamental Python library for numerical computing, offers advanced features beyond basic array operations, including broadcasting, linear algebra, Fourier transforms, and random number generation. It also provides tools for integrating with C/C++ and Fortran code, enabling efficient manipulation and computation on arrays.\n",
        "\n",
        "Here's a more detailed look at some of the advanced features:\n",
        "1. Broadcasting:\n",
        "Broadcasting allows element-wise operations between arrays of different shapes.\n",
        "NumPy automatically aligns the dimensions of arrays during operations, making it easier to perform calculations on arrays with varying sizes.\n",
        "2. Linear Algebra:\n",
        "NumPy provides a rich set of linear algebra functions, including dot product, matrix multiplication, determinant, inverse, and more.\n",
        "This is crucial for scientific computing and machine learning applications.\n",
        "3. Fourier Transform:\n",
        "NumPy includes functions for performing Fourier transforms, which are essential for signal processing and image analysis.\n",
        "4. Random Number Generation:\n",
        "NumPy offers functions for generating various types of random numbers, including integers, floating-point numbers, and samples from different probability distributions.\n",
        "5. Integration with C/C++ and Fortran:\n",
        "NumPy can integrate with code written in C/C++ and Fortran, which can be useful for performance-critical sections of code.\n",
        "6. Structured and Record Arrays:\n",
        "NumPy supports structured arrays, which allow you to define custom data types with fields and records, making it easier to handle complex data structures.\n",
        "7. Masking:\n",
        "Masking allows you to conditionally select or modify elements of an array based on a boolean condition.\n",
        "8. Fancy Indexing:\n",
        "Fancy indexing allows you to select elements using arrays of indices, providing flexibility in accessing elements.\n",
        "9. Array Manipulation:\n",
        "NumPy offers a wide range of array manipulation functions, including reshaping, slicing, stacking, and concatenating.\n",
        "10. Universal Functions (ufuncs):\n",
        "Ufuncs are functions that operate element-wise on arrays, providing a powerful way to perform mathematical operations on arrays.\n",
        "They are vectorized, meaning they operate on entire arrays without the need for explicit loops.\n",
        "\n",
        "---\n",
        "***Q19. How does Pandas simplify time series analysis?***\n",
        "\n",
        "Ans. Pandas simplifies time series analysis through several key features:\n",
        "1. Datetime Indexing: Pandas allows you to use dates and times as the index of your data, enabling intuitive organization and access. This simplifies time-based data selection using string formatted date/times.\n",
        "2. Datetime Conversion: Pandas can automatically convert strings and other representations of dates into datetime objects, streamlining the management and manipulation of time-based data.\n",
        "3. Resampling: The resample() function allows you to change the frequency of your data, enabling aggregation or downsampling into different time intervals (e.g., daily, weekly, monthly). This is useful for comparing data across various time scales and working with irregularly sampled data.\n",
        "4. Time-Based Grouping: Pandas provides the groupby() method, combined with pd.Grouper(), for advanced resampling operations. This allows you to perform aggregations and computations based on time intervals.\n",
        "5. Specialized Time Series Functions: Pandas offers functions like rolling() and expanding() for calculations such as rolling window statistics, cumulative operations, and data smoothing. These functions are essential for analyzing trends and patterns in time series data.\n",
        "6. Time-Related Properties: Pandas provides time-related properties through Timestamp objects, allowing for easy access to information such as year, month, day, hour, etc.\n",
        "7. Data Aggregation: Pandas offers methods like resample and groupby for aggregating data over specific time periods, enabling the generation of summary statistics (e.g. mean, minimum, maximum) for each time bin.\n",
        "8. Data Subsetting: Pandas makes it easy to slice time series data, allowing you to focus on specific portions of the data.\n",
        "\n",
        "---\n",
        "***Q20. What is the role of a pivot table in Pandas?***\n",
        "\n",
        "Ans. A pivot table in Pandas is a data summarization tool that transforms and reorganizes data in a DataFrame, similar to how it is done in spreadsheet software. It allows users to reshape data by aggregating values based on one or more index columns and one or more columns. This enables the user to quickly analyze trends and patterns within the dataset.\n",
        "\n",
        "Here are the key functions of a pivot table:\n",
        "* Data Aggregation:\n",
        "Pivot tables summarize data by applying aggregation functions (e.g., sum, mean, count) to values based on specified row and column groupings.\n",
        "* Data Reshaping:\n",
        "They transform data from a \"long\" format to a \"wide\" format, making it easier to compare and analyze different categories or groups.\n",
        "* Data Analysis:\n",
        "Pivot tables facilitate complex data analysis by allowing users to explore relationships between different variables, identify patterns, and gain insights from large datasets.\n",
        "* Data Visualization:\n",
        "The structured format of pivot tables makes it easier to create visualizations, such as charts and graphs, to represent data in a clear and concise manner.\n",
        "* Flexibility:\n",
        "Pivot tables can handle missing data, allow for the use of custom aggregation functions, and can be easily modified to explore different data perspectives\n",
        "\n",
        "---\n",
        "***Q21. Why is NumPy’s array slicing faster than Python’s list slicing?***\n",
        "\n",
        "Ans. NumPy's array slicing is generally faster than Python's list slicing due to fundamental differences in how these data structures are implemented and how they manage memory.\n",
        "\n",
        "1. Homogeneous Data Types:\n",
        "* NumPy arrays store elements of the same data type (e.g., all integers, all floats). This homogeneity allows NumPy to store data more compactly in memory.\n",
        "* Python lists, on the other hand, can store elements of different data types. This requires additional overhead for each element to track its type, which increases memory usage and slows down operations.\n",
        "2. Contiguous Memory Allocation:\n",
        "* NumPy arrays are stored in contiguous blocks of memory. This means that all elements are placed next to each other in memory, allowing for efficient access and manipulation.\n",
        "* Python lists, however, may not store elements in contiguous memory locations. This can lead to memory fragmentation and slower access times.\n",
        "3. Optimized C Implementation:\n",
        "* NumPy is built on top of C, which is a lower-level programming language that offers better performance than Python for numerical operations.\n",
        "* Many NumPy functions, including slicing, are implemented in C, which allows for faster execution.\n",
        "4. Reduced Overhead:\n",
        "* Python lists store additional information about each element, such as its type and reference count. This overhead can be significant when dealing with large datasets.\n",
        "* NumPy arrays have a fixed data type, reducing memory overhead by eliminating the need to store type information for each element.\n",
        "5. Vectorized Operations:\n",
        "* NumPy enables vectorized operations, which allow you to perform operations on entire arrays without explicit loops. This can be significantly faster than looping through Python lists.\n",
        "* Slicing in NumPy is also vectorized, meaning it can operate on entire blocks of memory at once.\n",
        "\n",
        "---\n",
        "***Q22. What are some common use cases for Seaborn?***\n",
        "\n",
        "Ans. Seaborn is a Python data visualization library built on top of Matplotlib, designed for creating informative and attractive statistical graphics. Here are some common use cases:\n",
        "1. Data Exploration and Analysis\n",
        "* Understanding distributions:\n",
        "Seaborn provides functions like histplot, kdeplot, and distplot to visualize the distribution of single variables, helping to understand the shape, spread, and central tendency of the data.\n",
        "* Identifying relationships:\n",
        "Scatter plots, line plots, and pair plots are used to explore relationships between two or more variables. Pair plots, in particular, show relationships across multiple variables in a single grid.\n",
        "* Categorical data analysis:\n",
        "Categorical plots, such as box plots, violin plots, and bar plots, help visualize data distributions across different categories.\n",
        "* Correlation visualization:\n",
        "Heatmaps are used to visualize correlation matrices, showing the strength and direction of relationships between variables.\n",
        "2. Statistical Visualization\n",
        "* Regression analysis:\n",
        "Seaborn's regplot function helps visualize the relationship between two variables and fits a regression line, showing the correlation between the variables.\n",
        "* Comparing distributions:\n",
        "Box plots and violin plots are used to compare distributions of data across different categories or groups.\n",
        "Presentation and Reporting\n",
        "* Creating publication-quality graphics:\n",
        "Seaborn provides built-in themes and color palettes to produce more attractive and informative visualizations.\n",
        "* Customizing plots:\n",
        "While Seaborn offers high-level abstractions, it also allows for customization of plots using Matplotlib.\n",
        "* Visualizing complex data:\n",
        "Seaborn can handle complex data structures and perform the necessary statistical aggregation to produce meaningful plots."
      ],
      "metadata": {
        "id": "PTGWds9W6Nnl"
      }
    },
    {
      "cell_type": "code",
      "source": [
        "#Q1. How do you create a 2D NumPy array and calculate the sum of each row?\n",
        "import numpy as np\n",
        "\n",
        "# Creating a 2D NumPy array\n",
        "array_2d = np.array([[1, 2, 3],\n",
        "                     [4, 5, 6],\n",
        "                     [7, 8, 9]])\n",
        "\n",
        "print(\"2D NumPy Array:\")\n",
        "print(array_2d)\n",
        "\n",
        "# Calculate the sum of each row\n",
        "row_sums = np.sum(array_2d, axis=1)\n",
        "\n",
        "print(\"\\nSum of each row:\")\n",
        "print(row_sums)"
      ],
      "metadata": {
        "colab": {
          "base_uri": "https://localhost:8080/"
        },
        "id": "6zOU_IK__z0X",
        "outputId": "93f8a383-b454-4f65-a9cf-038b1f0af006"
      },
      "execution_count": 1,
      "outputs": [
        {
          "output_type": "stream",
          "name": "stdout",
          "text": [
            "2D NumPy Array:\n",
            "[[1 2 3]\n",
            " [4 5 6]\n",
            " [7 8 9]]\n",
            "\n",
            "Sum of each row:\n",
            "[ 6 15 24]\n"
          ]
        }
      ]
    },
    {
      "cell_type": "code",
      "source": [
        "#Q2. Write a Pandas script to find the mean of a specific column in a DataFrame.\n",
        "import pandas as pd\n",
        "\n",
        "# Create a sample DataFrame\n",
        "data = {\n",
        "    'Name': ['Alice', 'Bob', 'Charlie', 'David'],\n",
        "    'Age': [25, 30, 35, 40],\n",
        "    'Score': [85, 90, 95, 80]\n",
        "}\n",
        "\n",
        "df = pd.DataFrame(data)\n",
        "\n",
        "# Display the DataFrame\n",
        "print(\"DataFrame:\")\n",
        "print(df)\n",
        "\n",
        "# Calculate the mean of the 'Score' column\n",
        "score_mean = df['Score'].mean()\n",
        "\n",
        "print(\"\\nMean of 'Score' column:\")\n",
        "print(score_mean)"
      ],
      "metadata": {
        "colab": {
          "base_uri": "https://localhost:8080/"
        },
        "id": "MB4miPSeDVe7",
        "outputId": "60fe0138-13b0-42bb-bb56-670fa92e1af3"
      },
      "execution_count": 2,
      "outputs": [
        {
          "output_type": "stream",
          "name": "stdout",
          "text": [
            "DataFrame:\n",
            "      Name  Age  Score\n",
            "0    Alice   25     85\n",
            "1      Bob   30     90\n",
            "2  Charlie   35     95\n",
            "3    David   40     80\n",
            "\n",
            "Mean of 'Score' column:\n",
            "87.5\n"
          ]
        }
      ]
    },
    {
      "cell_type": "code",
      "source": [
        "#Q3. Create a scatter plot using Matplotlib.\n",
        "import matplotlib.pyplot as plt\n",
        "x = [10, 20, 30, 40, 50]\n",
        "y = [5, 15, 25, 10, 30]\n",
        "\n",
        "# Create the scatter plot\n",
        "plt.scatter(x, y, color='blue', marker='o')\n",
        "\n",
        "#  To add title and labels\n",
        "plt.title('Sample Scatter Plot')\n",
        "plt.xlabel('X-axis')\n",
        "plt.ylabel('Y-axis')\n",
        "\n",
        "plt.show()"
      ],
      "metadata": {
        "colab": {
          "base_uri": "https://localhost:8080/",
          "height": 472
        },
        "id": "L_SBpAbyDcyB",
        "outputId": "c104e38c-3090-47a0-da70-d5e68978d019"
      },
      "execution_count": 4,
      "outputs": [
        {
          "output_type": "display_data",
          "data": {
            "text/plain": [
              "<Figure size 640x480 with 1 Axes>"
            ],
            "image/png": "[encoded data removed]"
          },
          "metadata": {}
        }
      ]
    },
    {
      "cell_type": "code",
      "source": [
        "#Q4. How do you calculate the correlation matrix using Seaborn and visualize it with a heatmap?\n",
        "import pandas as pd\n",
        "import seaborn as sns\n",
        "import matplotlib.pyplot as plt\n",
        "\n",
        "# Data\n",
        "data = {\n",
        "    'Math': [85, 90, 78, 92, 88],\n",
        "    'Science': [80, 85, 75, 95, 89],\n",
        "    'English': [78, 83, 77, 85, 82]\n",
        "}\n",
        "\n",
        "# Creating DataFrame\n",
        "df = pd.DataFrame(data)\n",
        "\n",
        "# Calculate the correlation matrix\n",
        "correlation_matrix = df.corr()\n",
        "\n",
        "# Display the correlation matrix\n",
        "print(\"Correlation Matrix:\")\n",
        "print(correlation_matrix)\n",
        "\n",
        "# Plot the heatmap using Seaborn\n",
        "plt.figure(figsize=(8, 6))\n",
        "sns.heatmap(correlation_matrix, annot=True, cmap='coolwarm', linewidths=0.5)\n",
        "\n",
        "# To add a title\n",
        "plt.title('Correlation Matrix Heatmap')\n",
        "\n",
        "plt.show()"
      ],
      "metadata": {
        "colab": {
          "base_uri": "https://localhost:8080/",
          "height": 632
        },
        "id": "ISxcDcc5DuPu",
        "outputId": "f3620838-a131-4f1e-ca81-5ffcac0cb4e8"
      },
      "execution_count": 5,
      "outputs": [
        {
          "output_type": "stream",
          "name": "stdout",
          "text": [
            "Correlation Matrix:\n",
            "             Math   Science  English\n",
            "Math     1.000000  0.906619  0.93182\n",
            "Science  0.906619  1.000000  0.94065\n",
            "English  0.931820  0.940650  1.00000\n"
          ]
        },
        {
          "output_type": "display_data",
          "data": {
            "text/plain": [
              "<Figure size 800x600 with 2 Axes>"
            ],
            "image/png": "[encoded data removed]"
          },
          "metadata": {}
        }
      ]
    },
    {
      "cell_type": "code",
      "source": [
        "#Q5. Generate a bar plot using Plotly.\n",
        "!pip install plotly\n",
        "\n",
        "import plotly.express as px\n",
        "import pandas as pd\n",
        "\n",
        "# Sample data\n",
        "data = {\n",
        "    'Subjects': ['Math', 'Science', 'English', 'History'],\n",
        "    'Scores': [85, 90, 78, 88]\n",
        "}\n",
        "\n",
        "# Create DataFrame\n",
        "df = pd.DataFrame(data)\n",
        "\n",
        "# Create a bar plot\n",
        "fig = px.bar(df, x='Subjects', y='Scores', title='Student Scores by Subject', color='Subjects')\n",
        "\n",
        "fig.show()"
      ],
      "metadata": {
        "colab": {
          "base_uri": "https://localhost:8080/",
          "height": 594
        },
        "id": "djVLmc1GDv7X",
        "outputId": "098d14b0-f9a3-4c35-f826-4f076c168229"
      },
      "execution_count": 6,
      "outputs": [
        {
          "output_type": "stream",
          "name": "stdout",
          "text": [
            "Requirement already satisfied: plotly in /usr/local/lib/python3.11/dist-packages (5.24.1)\n",
            "Requirement already satisfied: tenacity>=6.2.0 in /usr/local/lib/python3.11/dist-packages (from plotly) (9.1.2)\n",
            "Requirement already satisfied: packaging in /usr/local/lib/python3.11/dist-packages (from plotly) (24.2)\n"
          ]
        },
        {
          "output_type": "display_data",
          "data": {
            "text/html": [
              "<html>\n",
              "<head><meta charset=\"utf-8\" /></head>\n",
              "<body>\n",
              "    <div>            <script src=\"https://cdnjs.cloudflare.com/ajax/libs/mathjax/2.7.5/MathJax.js?config=TeX-AMS-MML_SVG\"></script><script type=\"text/javascript\">if (window.MathJax && window.MathJax.Hub && window.MathJax.Hub.Config) {window.MathJax.Hub.Config({SVG: {font: \"STIX-Web\"}});}</script>                <script type=\"text/javascript\">window.PlotlyConfig = {MathJaxConfig: 'local'};</script>\n",
              "        <script charset=\"utf-8\" src=\"https://cdn.plot.ly/plotly-2.35.2.min.js\"></script>                <div id=\"f6c97ed3-ab51-4c3c-9f5b-d35b70d18f53\" class=\"plotly-graph-div\" style=\"height:525px; width:100%;\"></div>            <script type=\"text/javascript\">                                    window.PLOTLYENV=window.PLOTLYENV || {};                                    if (document.getElementById(\"f6c97ed3-ab51-4c3c-9f5b-d35b70d18f53\")) {                    Plotly.newPlot(                        \"f6c97ed3-ab51-4c3c-9f5b-d35b70d18f53\",                        [{\"alignmentgroup\":\"True\",\"hovertemplate\":\"Subjects=%{x}\\u003cbr\\u003eScores=%{y}\\u003cextra\\u003e\\u003c\\u002fextra\\u003e\",\"legendgroup\":\"Math\",\"marker\":{\"color\":\"#636efa\",\"pattern\":{\"shape\":\"\"}},\"name\":\"Math\",\"offsetgroup\":\"Math\",\"orientation\":\"v\",\"showlegend\":true,\"textposition\":\"auto\",\"x\":[\"Math\"],\"xaxis\":\"x\",\"y\":[85],\"yaxis\":\"y\",\"type\":\"bar\"},{\"alignmentgroup\":\"True\",\"hovertemplate\":\"Subjects=%{x}\\u003cbr\\u003eScores=%{y}\\u003cextra\\u003e\\u003c\\u002fextra\\u003e\",\"legendgroup\":\"Science\",\"marker\":{\"color\":\"#EF553B\",\"pattern\":{\"shape\":\"\"}},\"name\":\"Science\",\"offsetgroup\":\"Science\",\"orientation\":\"v\",\"showlegend\":true,\"textposition\":\"auto\",\"x\":[\"Science\"],\"xaxis\":\"x\",\"y\":[90],\"yaxis\":\"y\",\"type\":\"bar\"},{\"alignmentgroup\":\"True\",\"hovertemplate\":\"Subjects=%{x}\\u003cbr\\u003eScores=%{y}\\u003cextra\\u003e\\u003c\\u002fextra\\u003e\",\"legendgroup\":\"English\",\"marker\":{\"color\":\"#00cc96\",\"pattern\":{\"shape\":\"\"}},\"name\":\"English\",\"offsetgroup\":\"English\",\"orientation\":\"v\",\"showlegend\":true,\"textposition\":\"auto\",\"x\":[\"English\"],\"xaxis\":\"x\",\"y\":[78],\"yaxis\":\"y\",\"type\":\"bar\"},{\"alignmentgroup\":\"True\",\"hovertemplate\":\"Subjects=%{x}\\u003cbr\\u003eScores=%{y}\\u003cextra\\u003e\\u003c\\u002fextra\\u003e\",\"legendgroup\":\"History\",\"marker\":{\"color\":\"#ab63fa\",\"pattern\":{\"shape\":\"\"}},\"name\":\"History\",\"offsetgroup\":\"History\",\"orientation\":\"v\",\"showlegend\":true,\"textposition\":\"auto\",\"x\":[\"History\"],\"xaxis\":\"x\",\"y\":[88],\"yaxis\":\"y\",\"type\":\"bar\"}],                        {\"template\":{\"data\":{\"histogram2dcontour\":[{\"type\":\"histogram2dcontour\",\"colorbar\":{\"outlinewidth\":0,\"ticks\":\"\"},\"colorscale\":[[0.0,\"#0d0887\"],[0.1111111111111111,\"#46039f\"],[0.2222222222222222,\"#7201a8\"],[0.3333333333333333,\"#9c179e\"],[0.4444444444444444,\"#bd3786\"],[0.5555555555555556,\"#d8576b\"],[0.6666666666666666,\"#ed7953\"],[0.7777777777777778,\"#fb9f3a\"],[0.8888888888888888,\"#fdca26\"],[1.0,\"#f0f921\"]]}],\"choropleth\":[{\"type\":\"choropleth\",\"colorbar\":{\"outlinewidth\":0,\"ticks\":\"\"}}],\"histogram2d\":[{\"type\":\"histogram2d\",\"colorbar\":{\"outlinewidth\":0,\"ticks\":\"\"},\"colorscale\":[[0.0,\"#0d0887\"],[0.1111111111111111,\"#46039f\"],[0.2222222222222222,\"#7201a8\"],[0.3333333333333333,\"#9c179e\"],[0.4444444444444444,\"#bd3786\"],[0.5555555555555556,\"#d8576b\"],[0.6666666666666666,\"#ed7953\"],[0.7777777777777778,\"#fb9f3a\"],[0.8888888888888888,\"#fdca26\"],[1.0,\"#f0f921\"]]}],\"heatmap\":[{\"type\":\"heatmap\",\"colorbar\":{\"outlinewidth\":0,\"ticks\":\"\"},\"colorscale\":[[0.0,\"#0d0887\"],[0.1111111111111111,\"#46039f\"],[0.2222222222222222,\"#7201a8\"],[0.3333333333333333,\"#9c179e\"],[0.4444444444444444,\"#bd3786\"],[0.5555555555555556,\"#d8576b\"],[0.6666666666666666,\"#ed7953\"],[0.7777777777777778,\"#fb9f3a\"],[0.8888888888888888,\"#fdca26\"],[1.0,\"#f0f921\"]]}],\"heatmapgl\":[{\"type\":\"heatmapgl\",\"colorbar\":{\"outlinewidth\":0,\"ticks\":\"\"},\"colorscale\":[[0.0,\"#0d0887\"],[0.1111111111111111,\"#46039f\"],[0.2222222222222222,\"#7201a8\"],[0.3333333333333333,\"#9c179e\"],[0.4444444444444444,\"#bd3786\"],[0.5555555555555556,\"#d8576b\"],[0.6666666666666666,\"#ed7953\"],[0.7777777777777778,\"#fb9f3a\"],[0.8888888888888888,\"#fdca26\"],[1.0,\"#f0f921\"]]}],\"contourcarpet\":[{\"type\":\"contourcarpet\",\"colorbar\":{\"outlinewidth\":0,\"ticks\":\"\"}}],\"contour\":[{\"type\":\"contour\",\"colorbar\":{\"outlinewidth\":0,\"ticks\":\"\"},\"colorscale\":[[0.0,\"#0d0887\"],[0.1111111111111111,\"#46039f\"],[0.2222222222222222,\"#7201a8\"],[0.3333333333333333,\"#9c179e\"],[0.4444444444444444,\"#bd3786\"],[0.5555555555555556,\"#d8576b\"],[0.6666666666666666,\"#ed7953\"],[0.7777777777777778,\"#fb9f3a\"],[0.8888888888888888,\"#fdca26\"],[1.0,\"#f0f921\"]]}],\"surface\":[{\"type\":\"surface\",\"colorbar\":{\"outlinewidth\":0,\"ticks\":\"\"},\"colorscale\":[[0.0,\"#0d0887\"],[0.1111111111111111,\"#46039f\"],[0.2222222222222222,\"#7201a8\"],[0.3333333333333333,\"#9c179e\"],[0.4444444444444444,\"#bd3786\"],[0.5555555555555556,\"#d8576b\"],[0.6666666666666666,\"#ed7953\"],[0.7777777777777778,\"#fb9f3a\"],[0.8888888888888888,\"#fdca26\"],[1.0,\"#f0f921\"]]}],\"mesh3d\":[{\"type\":\"mesh3d\",\"colorbar\":{\"outlinewidth\":0,\"ticks\":\"\"}}],\"scatter\":[{\"fillpattern\":{\"fillmode\":\"overlay\",\"size\":10,\"solidity\":0.2},\"type\":\"scatter\"}],\"parcoords\":[{\"type\":\"parcoords\",\"line\":{\"colorbar\":{\"outlinewidth\":0,\"ticks\":\"\"}}}],\"scatterpolargl\":[{\"type\":\"scatterpolargl\",\"marker\":{\"colorbar\":{\"outlinewidth\":0,\"ticks\":\"\"}}}],\"bar\":[{\"error_x\":{\"color\":\"#2a3f5f\"},\"error_y\":{\"color\":\"#2a3f5f\"},\"marker\":{\"line\":{\"color\":\"#E5ECF6\",\"width\":0.5},\"pattern\":{\"fillmode\":\"overlay\",\"size\":10,\"solidity\":0.2}},\"type\":\"bar\"}],\"scattergeo\":[{\"type\":\"scattergeo\",\"marker\":{\"colorbar\":{\"outlinewidth\":0,\"ticks\":\"\"}}}],\"scatterpolar\":[{\"type\":\"scatterpolar\",\"marker\":{\"colorbar\":{\"outlinewidth\":0,\"ticks\":\"\"}}}],\"histogram\":[{\"marker\":{\"pattern\":{\"fillmode\":\"overlay\",\"size\":10,\"solidity\":0.2}},\"type\":\"histogram\"}],\"scattergl\":[{\"type\":\"scattergl\",\"marker\":{\"colorbar\":{\"outlinewidth\":0,\"ticks\":\"\"}}}],\"scatter3d\":[{\"type\":\"scatter3d\",\"line\":{\"colorbar\":{\"outlinewidth\":0,\"ticks\":\"\"}},\"marker\":{\"colorbar\":{\"outlinewidth\":0,\"ticks\":\"\"}}}],\"scattermapbox\":[{\"type\":\"scattermapbox\",\"marker\":{\"colorbar\":{\"outlinewidth\":0,\"ticks\":\"\"}}}],\"scatterternary\":[{\"type\":\"scatterternary\",\"marker\":{\"colorbar\":{\"outlinewidth\":0,\"ticks\":\"\"}}}],\"scattercarpet\":[{\"type\":\"scattercarpet\",\"marker\":{\"colorbar\":{\"outlinewidth\":0,\"ticks\":\"\"}}}],\"carpet\":[{\"aaxis\":{\"endlinecolor\":\"#2a3f5f\",\"gridcolor\":\"white\",\"linecolor\":\"white\",\"minorgridcolor\":\"white\",\"startlinecolor\":\"#2a3f5f\"},\"baxis\":{\"endlinecolor\":\"#2a3f5f\",\"gridcolor\":\"white\",\"linecolor\":\"white\",\"minorgridcolor\":\"white\",\"startlinecolor\":\"#2a3f5f\"},\"type\":\"carpet\"}],\"table\":[{\"cells\":{\"fill\":{\"color\":\"#EBF0F8\"},\"line\":{\"color\":\"white\"}},\"header\":{\"fill\":{\"color\":\"#C8D4E3\"},\"line\":{\"color\":\"white\"}},\"type\":\"table\"}],\"barpolar\":[{\"marker\":{\"line\":{\"color\":\"#E5ECF6\",\"width\":0.5},\"pattern\":{\"fillmode\":\"overlay\",\"size\":10,\"solidity\":0.2}},\"type\":\"barpolar\"}],\"pie\":[{\"automargin\":true,\"type\":\"pie\"}]},\"layout\":{\"autotypenumbers\":\"strict\",\"colorway\":[\"#636efa\",\"#EF553B\",\"#00cc96\",\"#ab63fa\",\"#FFA15A\",\"#19d3f3\",\"#FF6692\",\"#B6E880\",\"#FF97FF\",\"#FECB52\"],\"font\":{\"color\":\"#2a3f5f\"},\"hovermode\":\"closest\",\"hoverlabel\":{\"align\":\"left\"},\"paper_bgcolor\":\"white\",\"plot_bgcolor\":\"#E5ECF6\",\"polar\":{\"bgcolor\":\"#E5ECF6\",\"angularaxis\":{\"gridcolor\":\"white\",\"linecolor\":\"white\",\"ticks\":\"\"},\"radialaxis\":{\"gridcolor\":\"white\",\"linecolor\":\"white\",\"ticks\":\"\"}},\"ternary\":{\"bgcolor\":\"#E5ECF6\",\"aaxis\":{\"gridcolor\":\"white\",\"linecolor\":\"white\",\"ticks\":\"\"},\"baxis\":{\"gridcolor\":\"white\",\"linecolor\":\"white\",\"ticks\":\"\"},\"caxis\":{\"gridcolor\":\"white\",\"linecolor\":\"white\",\"ticks\":\"\"}},\"coloraxis\":{\"colorbar\":{\"outlinewidth\":0,\"ticks\":\"\"}},\"colorscale\":{\"sequential\":[[0.0,\"#0d0887\"],[0.1111111111111111,\"#46039f\"],[0.2222222222222222,\"#7201a8\"],[0.3333333333333333,\"#9c179e\"],[0.4444444444444444,\"#bd3786\"],[0.5555555555555556,\"#d8576b\"],[0.6666666666666666,\"#ed7953\"],[0.7777777777777778,\"#fb9f3a\"],[0.8888888888888888,\"#fdca26\"],[1.0,\"#f0f921\"]],\"sequentialminus\":[[0.0,\"#0d0887\"],[0.1111111111111111,\"#46039f\"],[0.2222222222222222,\"#7201a8\"],[0.3333333333333333,\"#9c179e\"],[0.4444444444444444,\"#bd3786\"],[0.5555555555555556,\"#d8576b\"],[0.6666666666666666,\"#ed7953\"],[0.7777777777777778,\"#fb9f3a\"],[0.8888888888888888,\"#fdca26\"],[1.0,\"#f0f921\"]],\"diverging\":[[0,\"#8e0152\"],[0.1,\"#c51b7d\"],[0.2,\"#de77ae\"],[0.3,\"#f1b6da\"],[0.4,\"#fde0ef\"],[0.5,\"#f7f7f7\"],[0.6,\"#e6f5d0\"],[0.7,\"#b8e186\"],[0.8,\"#7fbc41\"],[0.9,\"#4d9221\"],[1,\"#276419\"]]},\"xaxis\":{\"gridcolor\":\"white\",\"linecolor\":\"white\",\"ticks\":\"\",\"title\":{\"standoff\":15},\"zerolinecolor\":\"white\",\"automargin\":true,\"zerolinewidth\":2},\"yaxis\":{\"gridcolor\":\"white\",\"linecolor\":\"white\",\"ticks\":\"\",\"title\":{\"standoff\":15},\"zerolinecolor\":\"white\",\"automargin\":true,\"zerolinewidth\":2},\"scene\":{\"xaxis\":{\"backgroundcolor\":\"#E5ECF6\",\"gridcolor\":\"white\",\"linecolor\":\"white\",\"showbackground\":true,\"ticks\":\"\",\"zerolinecolor\":\"white\",\"gridwidth\":2},\"yaxis\":{\"backgroundcolor\":\"#E5ECF6\",\"gridcolor\":\"white\",\"linecolor\":\"white\",\"showbackground\":true,\"ticks\":\"\",\"zerolinecolor\":\"white\",\"gridwidth\":2},\"zaxis\":{\"backgroundcolor\":\"#E5ECF6\",\"gridcolor\":\"white\",\"linecolor\":\"white\",\"showbackground\":true,\"ticks\":\"\",\"zerolinecolor\":\"white\",\"gridwidth\":2}},\"shapedefaults\":{\"line\":{\"color\":\"#2a3f5f\"}},\"annotationdefaults\":{\"arrowcolor\":\"#2a3f5f\",\"arrowhead\":0,\"arrowwidth\":1},\"geo\":{\"bgcolor\":\"white\",\"landcolor\":\"#E5ECF6\",\"subunitcolor\":\"white\",\"showland\":true,\"showlakes\":true,\"lakecolor\":\"white\"},\"title\":{\"x\":0.05},\"mapbox\":{\"style\":\"light\"}}},\"xaxis\":{\"anchor\":\"y\",\"domain\":[0.0,1.0],\"title\":{\"text\":\"Subjects\"},\"categoryorder\":\"array\",\"categoryarray\":[\"Math\",\"Science\",\"English\",\"History\"]},\"yaxis\":{\"anchor\":\"x\",\"domain\":[0.0,1.0],\"title\":{\"text\":\"Scores\"}},\"legend\":{\"title\":{\"text\":\"Subjects\"},\"tracegroupgap\":0},\"title\":{\"text\":\"Student Scores by Subject\"},\"barmode\":\"relative\"},                        {\"responsive\": true}                    ).then(function(){\n",
              "                            \n",
              "var gd = document.getElementById('f6c97ed3-ab51-4c3c-9f5b-d35b70d18f53');\n",
              "var x = new MutationObserver(function (mutations, observer) {{\n",
              "        var display = window.getComputedStyle(gd).display;\n",
              "        if (!display || display === 'none') {{\n",
              "            console.log([gd, 'removed!']);\n",
              "            Plotly.purge(gd);\n",
              "            observer.disconnect();\n",
              "        }}\n",
              "}});\n",
              "\n",
              "// Listen for the removal of the full notebook cells\n",
              "var notebookContainer = gd.closest('#notebook-container');\n",
              "if (notebookContainer) {{\n",
              "    x.observe(notebookContainer, {childList: true});\n",
              "}}\n",
              "\n",
              "// Listen for the clearing of the current output cell\n",
              "var outputEl = gd.closest('.output');\n",
              "if (outputEl) {{\n",
              "    x.observe(outputEl, {childList: true});\n",
              "}}\n",
              "\n",
              "                        })                };                            </script>        </div>\n",
              "</body>\n",
              "</html>"
            ]
          },
          "metadata": {}
        }
      ]
    },
    {
      "cell_type": "code",
      "source": [
        "#Q6.  Create a DataFrame and add a new column based on an existing column.\n",
        "import pandas as pd\n",
        "\n",
        "# Create a sample DataFrame\n",
        "data = {\n",
        "    'Name': ['Alice', 'Bob', 'Charlie', 'David'],\n",
        "    'Score': [85, 92, 78, 88]\n",
        "}\n",
        "\n",
        "df = pd.DataFrame(data)\n",
        "\n",
        "# Add a new column 'Grade' based on the 'Score' column\n",
        "df['Grade'] = df['Score'].apply(lambda x: 'A' if x >= 90 else ('B' if x >= 80 else 'C'))\n",
        "\n",
        "print(\"Updated DataFrame with 'Grade' column:\")\n",
        "print(df)"
      ],
      "metadata": {
        "colab": {
          "base_uri": "https://localhost:8080/"
        },
        "id": "bJdb69KYDwPv",
        "outputId": "660980f8-73ee-4e3c-9045-f6ec0c443562"
      },
      "execution_count": 7,
      "outputs": [
        {
          "output_type": "stream",
          "name": "stdout",
          "text": [
            "Updated DataFrame with 'Grade' column:\n",
            "      Name  Score Grade\n",
            "0    Alice     85     B\n",
            "1      Bob     92     A\n",
            "2  Charlie     78     C\n",
            "3    David     88     B\n"
          ]
        }
      ]
    },
    {
      "cell_type": "code",
      "source": [
        "#Q7.  Write a program to perform element-wise multiplication of two NumPy arrays.\n",
        "import numpy as np\n",
        "\n",
        "# Create two NumPy arrays\n",
        "array1 = np.array([1, 2, 3, 4])\n",
        "array2 = np.array([5, 6, 7, 8])\n",
        "\n",
        "# Perform element-wise multiplication\n",
        "result = array1 * array2\n",
        "\n",
        "# Display the input arrays and the result\n",
        "print(\"Array 1:\", array1)\n",
        "print(\"Array 2:\", array2)\n",
        "print(\"Element-wise Multiplication Result:\", result)"
      ],
      "metadata": {
        "colab": {
          "base_uri": "https://localhost:8080/"
        },
        "id": "ePJD0N8LDwdl",
        "outputId": "d646e0d0-a6bf-4e68-bd41-de93b6ca2a4b"
      },
      "execution_count": 8,
      "outputs": [
        {
          "output_type": "stream",
          "name": "stdout",
          "text": [
            "Array 1: [1 2 3 4]\n",
            "Array 2: [5 6 7 8]\n",
            "Element-wise Multiplication Result: [ 5 12 21 32]\n"
          ]
        }
      ]
    },
    {
      "cell_type": "code",
      "source": [
        "#Q8.  Create a line plot with multiple lines using Matplotlib.\n",
        "import matplotlib.pyplot as plt\n",
        "\n",
        "# Sample data\n",
        "x = [1, 2, 3, 4, 5]\n",
        "y1 = [2, 4, 6, 8, 10]\n",
        "y2 = [1, 3, 5, 7, 9]\n",
        "\n",
        "# Create the line plot\n",
        "plt.plot(x, y1, label='Line 1 - y=2x', color='blue', marker='o')\n",
        "plt.plot(x, y2, label='Line 2 - y=2x-1', color='green', marker='s')\n",
        "\n",
        "# Add labels and title\n",
        "plt.xlabel('X-axis')\n",
        "plt.ylabel('Y-axis')\n",
        "plt.title('Multiple Line Plot')\n",
        "plt.legend()\n",
        "\n",
        "plt.grid(True)\n",
        "plt.show()"
      ],
      "metadata": {
        "colab": {
          "base_uri": "https://localhost:8080/",
          "height": 472
        },
        "id": "aPraxnQ8Dwpn",
        "outputId": "e0e70476-5a79-4bc1-a713-e27ca797db76"
      },
      "execution_count": 9,
      "outputs": [
        {
          "output_type": "display_data",
          "data": {
            "text/plain": [
              "<Figure size 640x480 with 1 Axes>"
            ],
            "image/png": "[encoded data removed]"
          },
          "metadata": {}
        }
      ]
    },
    {
      "cell_type": "code",
      "source": [
        "#Q9. Generate a Pandas DataFrame and filter rows where a column value is greater than a threshold.\n",
        "import pandas as pd\n",
        "\n",
        "# Create a sample DataFrame\n",
        "data = {\n",
        "    'Name': ['Alice', 'Bob', 'Charlie', 'David', 'Eva'],\n",
        "    'Score': [72, 85, 90, 65, 88]\n",
        "}\n",
        "\n",
        "df = pd.DataFrame(data)\n",
        "\n",
        "# Display the original DataFrame\n",
        "print(\"Original DataFrame:\")\n",
        "print(df)\n",
        "\n",
        "# Set a threshold\n",
        "threshold = 80\n",
        "\n",
        "# Filter rows where 'Score' is greater than the threshold\n",
        "filtered_df = df[df['Score'] > threshold]\n",
        "\n",
        "print(f\"\\nRows where 'Score' > {threshold}:\")\n",
        "print(filtered_df)"
      ],
      "metadata": {
        "colab": {
          "base_uri": "https://localhost:8080/"
        },
        "id": "3zA6mlheDw2N",
        "outputId": "fd2f77dd-48e7-4e9d-b9e4-97793b7e442f"
      },
      "execution_count": 10,
      "outputs": [
        {
          "output_type": "stream",
          "name": "stdout",
          "text": [
            "Original DataFrame:\n",
            "      Name  Score\n",
            "0    Alice     72\n",
            "1      Bob     85\n",
            "2  Charlie     90\n",
            "3    David     65\n",
            "4      Eva     88\n",
            "\n",
            "Rows where 'Score' > 80:\n",
            "      Name  Score\n",
            "1      Bob     85\n",
            "2  Charlie     90\n",
            "4      Eva     88\n"
          ]
        }
      ]
    },
    {
      "cell_type": "code",
      "source": [
        "#Q10. Create a histogram using Seaborn to visualize a distribution.\n",
        "import seaborn as sns\n",
        "import matplotlib.pyplot as plt\n",
        "import numpy as np\n",
        "\n",
        "# Generate sample data (e.g., normal distribution)\n",
        "data = np.random.randn(1000)\n",
        "\n",
        "# Create the histogram using Seaborn\n",
        "sns.histplot(data, bins=30, kde=True, color='skyblue')\n",
        "\n",
        "# Add title and labels\n",
        "plt.title('Histogram with KDE of Normally Distributed Data')\n",
        "plt.xlabel('Value')\n",
        "plt.ylabel('Frequency')\n",
        "\n",
        "plt.show()"
      ],
      "metadata": {
        "colab": {
          "base_uri": "https://localhost:8080/",
          "height": 472
        },
        "id": "JoDOMAfJDxCz",
        "outputId": "278415fb-ead4-4c63-ba6b-dd9231807dbc"
      },
      "execution_count": 11,
      "outputs": [
        {
          "output_type": "display_data",
          "data": {
            "text/plain": [
              "<Figure size 640x480 with 1 Axes>"
            ],
            "image/png": "[encoded data removed]"
          },
          "metadata": {}
        }
      ]
    },
    {
      "cell_type": "code",
      "source": [
        "#Q11. Perform matrix multiplication using NumPy.\n",
        "import numpy as np\n",
        "\n",
        "# Define two 2D NumPy arrays (matrices)\n",
        "matrix_a = np.array([[1, 2, 3],\n",
        "                     [4, 5, 6]])\n",
        "\n",
        "matrix_b = np.array([[7, 8],\n",
        "                     [9, 10],\n",
        "                     [11, 12]])\n",
        "\n",
        "# Perform matrix multiplication\n",
        "result = np.matmul(matrix_a, matrix_b)\n",
        "\n",
        "# Display the input matrices and the result\n",
        "print(\"Matrix A:\")\n",
        "print(matrix_a)\n",
        "\n",
        "print(\"\\nMatrix B:\")\n",
        "print(matrix_b)\n",
        "\n",
        "print(\"\\nResult of Matrix Multiplication (A x B):\")\n",
        "print(result)"
      ],
      "metadata": {
        "colab": {
          "base_uri": "https://localhost:8080/"
        },
        "id": "dRFtb7TrDxRz",
        "outputId": "e6c17d88-c747-42bf-abb5-0f643a172750"
      },
      "execution_count": 12,
      "outputs": [
        {
          "output_type": "stream",
          "name": "stdout",
          "text": [
            "Matrix A:\n",
            "[[1 2 3]\n",
            " [4 5 6]]\n",
            "\n",
            "Matrix B:\n",
            "[[ 7  8]\n",
            " [ 9 10]\n",
            " [11 12]]\n",
            "\n",
            "Result of Matrix Multiplication (A x B):\n",
            "[[ 58  64]\n",
            " [139 154]]\n"
          ]
        }
      ]
    },
    {
      "cell_type": "code",
      "source": [
        "#Q12. Use Pandas to load a CSV file and display its first 5 rows.\n",
        "import pandas as pd\n",
        "\n",
        "# we need to replace it with a real file as it will throw error if we run it now.\n",
        "df = pd.read_csv('your_file.csv')\n",
        "\n",
        "# Display the first 5 rows\n",
        "print(\"First 5 rows of the CSV:\")\n",
        "print(df.head())"
      ],
      "metadata": {
        "id": "8r6111DlDx4N"
      },
      "execution_count": null,
      "outputs": []
    },
    {
      "cell_type": "code",
      "source": [
        "#Q13. Create a 3D scatter plot using Plotly.\n",
        "!pip install plotly\n",
        "\n",
        "import plotly.express as px\n",
        "import pandas as pd\n",
        "\n",
        "# Sample data for 3D scatter plot\n",
        "data = {\n",
        "    'X': [1, 2, 3, 4, 5],\n",
        "    'Y': [10, 11, 12, 13, 14],\n",
        "    'Z': [5, 6, 7, 8, 9],\n",
        "    'Category': ['A', 'B', 'A', 'B', 'A']\n",
        "}\n",
        "\n",
        "df = pd.DataFrame(data)\n",
        "\n",
        "# Create 3D scatter plot\n",
        "fig = px.scatter_3d(df, x='X', y='Y', z='Z', color='Category', size='Z',\n",
        "                    title='3D Scatter Plot using Plotly')\n",
        "\n",
        "fig.show()"
      ],
      "metadata": {
        "colab": {
          "base_uri": "https://localhost:8080/",
          "height": 594
        },
        "id": "elWQnrm6GZfS",
        "outputId": "59ca47e4-5ddb-4afc-afc5-2af898d140e1"
      },
      "execution_count": 14,
      "outputs": [
        {
          "output_type": "stream",
          "name": "stdout",
          "text": [
            "Requirement already satisfied: plotly in /usr/local/lib/python3.11/dist-packages (5.24.1)\n",
            "Requirement already satisfied: tenacity>=6.2.0 in /usr/local/lib/python3.11/dist-packages (from plotly) (9.1.2)\n",
            "Requirement already satisfied: packaging in /usr/local/lib/python3.11/dist-packages (from plotly) (24.2)\n"
          ]
        },
        {
          "output_type": "display_data",
          "data": {
            "text/html": [
              "<html>\n",
              "<head><meta charset=\"utf-8\" /></head>\n",
              "<body>\n",
              "    <div>            <script src=\"https://cdnjs.cloudflare.com/ajax/libs/mathjax/2.7.5/MathJax.js?config=TeX-AMS-MML_SVG\"></script><script type=\"text/javascript\">if (window.MathJax && window.MathJax.Hub && window.MathJax.Hub.Config) {window.MathJax.Hub.Config({SVG: {font: \"STIX-Web\"}});}</script>                <script type=\"text/javascript\">window.PlotlyConfig = {MathJaxConfig: 'local'};</script>\n",
              "        <script charset=\"utf-8\" src=\"https://cdn.plot.ly/plotly-2.35.2.min.js\"></script>                <div id=\"4031b1c4-499f-47ce-a4e4-df46da3f733c\" class=\"plotly-graph-div\" style=\"height:525px; width:100%;\"></div>            <script type=\"text/javascript\">                                    window.PLOTLYENV=window.PLOTLYENV || {};                                    if (document.getElementById(\"4031b1c4-499f-47ce-a4e4-df46da3f733c\")) {                    Plotly.newPlot(                        \"4031b1c4-499f-47ce-a4e4-df46da3f733c\",                        [{\"hovertemplate\":\"Category=A\\u003cbr\\u003eX=%{x}\\u003cbr\\u003eY=%{y}\\u003cbr\\u003eZ=%{marker.size}\\u003cextra\\u003e\\u003c\\u002fextra\\u003e\",\"legendgroup\":\"A\",\"marker\":{\"color\":\"#636efa\",\"size\":[5,7,9],\"sizemode\":\"area\",\"sizeref\":0.0225,\"symbol\":\"circle\"},\"mode\":\"markers\",\"name\":\"A\",\"scene\":\"scene\",\"showlegend\":true,\"x\":[1,3,5],\"y\":[10,12,14],\"z\":[5,7,9],\"type\":\"scatter3d\"},{\"hovertemplate\":\"Category=B\\u003cbr\\u003eX=%{x}\\u003cbr\\u003eY=%{y}\\u003cbr\\u003eZ=%{marker.size}\\u003cextra\\u003e\\u003c\\u002fextra\\u003e\",\"legendgroup\":\"B\",\"marker\":{\"color\":\"#EF553B\",\"size\":[6,8],\"sizemode\":\"area\",\"sizeref\":0.0225,\"symbol\":\"circle\"},\"mode\":\"markers\",\"name\":\"B\",\"scene\":\"scene\",\"showlegend\":true,\"x\":[2,4],\"y\":[11,13],\"z\":[6,8],\"type\":\"scatter3d\"}],                        {\"template\":{\"data\":{\"histogram2dcontour\":[{\"type\":\"histogram2dcontour\",\"colorbar\":{\"outlinewidth\":0,\"ticks\":\"\"},\"colorscale\":[[0.0,\"#0d0887\"],[0.1111111111111111,\"#46039f\"],[0.2222222222222222,\"#7201a8\"],[0.3333333333333333,\"#9c179e\"],[0.4444444444444444,\"#bd3786\"],[0.5555555555555556,\"#d8576b\"],[0.6666666666666666,\"#ed7953\"],[0.7777777777777778,\"#fb9f3a\"],[0.8888888888888888,\"#fdca26\"],[1.0,\"#f0f921\"]]}],\"choropleth\":[{\"type\":\"choropleth\",\"colorbar\":{\"outlinewidth\":0,\"ticks\":\"\"}}],\"histogram2d\":[{\"type\":\"histogram2d\",\"colorbar\":{\"outlinewidth\":0,\"ticks\":\"\"},\"colorscale\":[[0.0,\"#0d0887\"],[0.1111111111111111,\"#46039f\"],[0.2222222222222222,\"#7201a8\"],[0.3333333333333333,\"#9c179e\"],[0.4444444444444444,\"#bd3786\"],[0.5555555555555556,\"#d8576b\"],[0.6666666666666666,\"#ed7953\"],[0.7777777777777778,\"#fb9f3a\"],[0.8888888888888888,\"#fdca26\"],[1.0,\"#f0f921\"]]}],\"heatmap\":[{\"type\":\"heatmap\",\"colorbar\":{\"outlinewidth\":0,\"ticks\":\"\"},\"colorscale\":[[0.0,\"#0d0887\"],[0.1111111111111111,\"#46039f\"],[0.2222222222222222,\"#7201a8\"],[0.3333333333333333,\"#9c179e\"],[0.4444444444444444,\"#bd3786\"],[0.5555555555555556,\"#d8576b\"],[0.6666666666666666,\"#ed7953\"],[0.7777777777777778,\"#fb9f3a\"],[0.8888888888888888,\"#fdca26\"],[1.0,\"#f0f921\"]]}],\"heatmapgl\":[{\"type\":\"heatmapgl\",\"colorbar\":{\"outlinewidth\":0,\"ticks\":\"\"},\"colorscale\":[[0.0,\"#0d0887\"],[0.1111111111111111,\"#46039f\"],[0.2222222222222222,\"#7201a8\"],[0.3333333333333333,\"#9c179e\"],[0.4444444444444444,\"#bd3786\"],[0.5555555555555556,\"#d8576b\"],[0.6666666666666666,\"#ed7953\"],[0.7777777777777778,\"#fb9f3a\"],[0.8888888888888888,\"#fdca26\"],[1.0,\"#f0f921\"]]}],\"contourcarpet\":[{\"type\":\"contourcarpet\",\"colorbar\":{\"outlinewidth\":0,\"ticks\":\"\"}}],\"contour\":[{\"type\":\"contour\",\"colorbar\":{\"outlinewidth\":0,\"ticks\":\"\"},\"colorscale\":[[0.0,\"#0d0887\"],[0.1111111111111111,\"#46039f\"],[0.2222222222222222,\"#7201a8\"],[0.3333333333333333,\"#9c179e\"],[0.4444444444444444,\"#bd3786\"],[0.5555555555555556,\"#d8576b\"],[0.6666666666666666,\"#ed7953\"],[0.7777777777777778,\"#fb9f3a\"],[0.8888888888888888,\"#fdca26\"],[1.0,\"#f0f921\"]]}],\"surface\":[{\"type\":\"surface\",\"colorbar\":{\"outlinewidth\":0,\"ticks\":\"\"},\"colorscale\":[[0.0,\"#0d0887\"],[0.1111111111111111,\"#46039f\"],[0.2222222222222222,\"#7201a8\"],[0.3333333333333333,\"#9c179e\"],[0.4444444444444444,\"#bd3786\"],[0.5555555555555556,\"#d8576b\"],[0.6666666666666666,\"#ed7953\"],[0.7777777777777778,\"#fb9f3a\"],[0.8888888888888888,\"#fdca26\"],[1.0,\"#f0f921\"]]}],\"mesh3d\":[{\"type\":\"mesh3d\",\"colorbar\":{\"outlinewidth\":0,\"ticks\":\"\"}}],\"scatter\":[{\"fillpattern\":{\"fillmode\":\"overlay\",\"size\":10,\"solidity\":0.2},\"type\":\"scatter\"}],\"parcoords\":[{\"type\":\"parcoords\",\"line\":{\"colorbar\":{\"outlinewidth\":0,\"ticks\":\"\"}}}],\"scatterpolargl\":[{\"type\":\"scatterpolargl\",\"marker\":{\"colorbar\":{\"outlinewidth\":0,\"ticks\":\"\"}}}],\"bar\":[{\"error_x\":{\"color\":\"#2a3f5f\"},\"error_y\":{\"color\":\"#2a3f5f\"},\"marker\":{\"line\":{\"color\":\"#E5ECF6\",\"width\":0.5},\"pattern\":{\"fillmode\":\"overlay\",\"size\":10,\"solidity\":0.2}},\"type\":\"bar\"}],\"scattergeo\":[{\"type\":\"scattergeo\",\"marker\":{\"colorbar\":{\"outlinewidth\":0,\"ticks\":\"\"}}}],\"scatterpolar\":[{\"type\":\"scatterpolar\",\"marker\":{\"colorbar\":{\"outlinewidth\":0,\"ticks\":\"\"}}}],\"histogram\":[{\"marker\":{\"pattern\":{\"fillmode\":\"overlay\",\"size\":10,\"solidity\":0.2}},\"type\":\"histogram\"}],\"scattergl\":[{\"type\":\"scattergl\",\"marker\":{\"colorbar\":{\"outlinewidth\":0,\"ticks\":\"\"}}}],\"scatter3d\":[{\"type\":\"scatter3d\",\"line\":{\"colorbar\":{\"outlinewidth\":0,\"ticks\":\"\"}},\"marker\":{\"colorbar\":{\"outlinewidth\":0,\"ticks\":\"\"}}}],\"scattermapbox\":[{\"type\":\"scattermapbox\",\"marker\":{\"colorbar\":{\"outlinewidth\":0,\"ticks\":\"\"}}}],\"scatterternary\":[{\"type\":\"scatterternary\",\"marker\":{\"colorbar\":{\"outlinewidth\":0,\"ticks\":\"\"}}}],\"scattercarpet\":[{\"type\":\"scattercarpet\",\"marker\":{\"colorbar\":{\"outlinewidth\":0,\"ticks\":\"\"}}}],\"carpet\":[{\"aaxis\":{\"endlinecolor\":\"#2a3f5f\",\"gridcolor\":\"white\",\"linecolor\":\"white\",\"minorgridcolor\":\"white\",\"startlinecolor\":\"#2a3f5f\"},\"baxis\":{\"endlinecolor\":\"#2a3f5f\",\"gridcolor\":\"white\",\"linecolor\":\"white\",\"minorgridcolor\":\"white\",\"startlinecolor\":\"#2a3f5f\"},\"type\":\"carpet\"}],\"table\":[{\"cells\":{\"fill\":{\"color\":\"#EBF0F8\"},\"line\":{\"color\":\"white\"}},\"header\":{\"fill\":{\"color\":\"#C8D4E3\"},\"line\":{\"color\":\"white\"}},\"type\":\"table\"}],\"barpolar\":[{\"marker\":{\"line\":{\"color\":\"#E5ECF6\",\"width\":0.5},\"pattern\":{\"fillmode\":\"overlay\",\"size\":10,\"solidity\":0.2}},\"type\":\"barpolar\"}],\"pie\":[{\"automargin\":true,\"type\":\"pie\"}]},\"layout\":{\"autotypenumbers\":\"strict\",\"colorway\":[\"#636efa\",\"#EF553B\",\"#00cc96\",\"#ab63fa\",\"#FFA15A\",\"#19d3f3\",\"#FF6692\",\"#B6E880\",\"#FF97FF\",\"#FECB52\"],\"font\":{\"color\":\"#2a3f5f\"},\"hovermode\":\"closest\",\"hoverlabel\":{\"align\":\"left\"},\"paper_bgcolor\":\"white\",\"plot_bgcolor\":\"#E5ECF6\",\"polar\":{\"bgcolor\":\"#E5ECF6\",\"angularaxis\":{\"gridcolor\":\"white\",\"linecolor\":\"white\",\"ticks\":\"\"},\"radialaxis\":{\"gridcolor\":\"white\",\"linecolor\":\"white\",\"ticks\":\"\"}},\"ternary\":{\"bgcolor\":\"#E5ECF6\",\"aaxis\":{\"gridcolor\":\"white\",\"linecolor\":\"white\",\"ticks\":\"\"},\"baxis\":{\"gridcolor\":\"white\",\"linecolor\":\"white\",\"ticks\":\"\"},\"caxis\":{\"gridcolor\":\"white\",\"linecolor\":\"white\",\"ticks\":\"\"}},\"coloraxis\":{\"colorbar\":{\"outlinewidth\":0,\"ticks\":\"\"}},\"colorscale\":{\"sequential\":[[0.0,\"#0d0887\"],[0.1111111111111111,\"#46039f\"],[0.2222222222222222,\"#7201a8\"],[0.3333333333333333,\"#9c179e\"],[0.4444444444444444,\"#bd3786\"],[0.5555555555555556,\"#d8576b\"],[0.6666666666666666,\"#ed7953\"],[0.7777777777777778,\"#fb9f3a\"],[0.8888888888888888,\"#fdca26\"],[1.0,\"#f0f921\"]],\"sequentialminus\":[[0.0,\"#0d0887\"],[0.1111111111111111,\"#46039f\"],[0.2222222222222222,\"#7201a8\"],[0.3333333333333333,\"#9c179e\"],[0.4444444444444444,\"#bd3786\"],[0.5555555555555556,\"#d8576b\"],[0.6666666666666666,\"#ed7953\"],[0.7777777777777778,\"#fb9f3a\"],[0.8888888888888888,\"#fdca26\"],[1.0,\"#f0f921\"]],\"diverging\":[[0,\"#8e0152\"],[0.1,\"#c51b7d\"],[0.2,\"#de77ae\"],[0.3,\"#f1b6da\"],[0.4,\"#fde0ef\"],[0.5,\"#f7f7f7\"],[0.6,\"#e6f5d0\"],[0.7,\"#b8e186\"],[0.8,\"#7fbc41\"],[0.9,\"#4d9221\"],[1,\"#276419\"]]},\"xaxis\":{\"gridcolor\":\"white\",\"linecolor\":\"white\",\"ticks\":\"\",\"title\":{\"standoff\":15},\"zerolinecolor\":\"white\",\"automargin\":true,\"zerolinewidth\":2},\"yaxis\":{\"gridcolor\":\"white\",\"linecolor\":\"white\",\"ticks\":\"\",\"title\":{\"standoff\":15},\"zerolinecolor\":\"white\",\"automargin\":true,\"zerolinewidth\":2},\"scene\":{\"xaxis\":{\"backgroundcolor\":\"#E5ECF6\",\"gridcolor\":\"white\",\"linecolor\":\"white\",\"showbackground\":true,\"ticks\":\"\",\"zerolinecolor\":\"white\",\"gridwidth\":2},\"yaxis\":{\"backgroundcolor\":\"#E5ECF6\",\"gridcolor\":\"white\",\"linecolor\":\"white\",\"showbackground\":true,\"ticks\":\"\",\"zerolinecolor\":\"white\",\"gridwidth\":2},\"zaxis\":{\"backgroundcolor\":\"#E5ECF6\",\"gridcolor\":\"white\",\"linecolor\":\"white\",\"showbackground\":true,\"ticks\":\"\",\"zerolinecolor\":\"white\",\"gridwidth\":2}},\"shapedefaults\":{\"line\":{\"color\":\"#2a3f5f\"}},\"annotationdefaults\":{\"arrowcolor\":\"#2a3f5f\",\"arrowhead\":0,\"arrowwidth\":1},\"geo\":{\"bgcolor\":\"white\",\"landcolor\":\"#E5ECF6\",\"subunitcolor\":\"white\",\"showland\":true,\"showlakes\":true,\"lakecolor\":\"white\"},\"title\":{\"x\":0.05},\"mapbox\":{\"style\":\"light\"}}},\"scene\":{\"domain\":{\"x\":[0.0,1.0],\"y\":[0.0,1.0]},\"xaxis\":{\"title\":{\"text\":\"X\"}},\"yaxis\":{\"title\":{\"text\":\"Y\"}},\"zaxis\":{\"title\":{\"text\":\"Z\"}}},\"legend\":{\"title\":{\"text\":\"Category\"},\"tracegroupgap\":0,\"itemsizing\":\"constant\"},\"title\":{\"text\":\"3D Scatter Plot using Plotly\"}},                        {\"responsive\": true}                    ).then(function(){\n",
              "                            \n",
              "var gd = document.getElementById('4031b1c4-499f-47ce-a4e4-df46da3f733c');\n",
              "var x = new MutationObserver(function (mutations, observer) {{\n",
              "        var display = window.getComputedStyle(gd).display;\n",
              "        if (!display || display === 'none') {{\n",
              "            console.log([gd, 'removed!']);\n",
              "            Plotly.purge(gd);\n",
              "            observer.disconnect();\n",
              "        }}\n",
              "}});\n",
              "\n",
              "// Listen for the removal of the full notebook cells\n",
              "var notebookContainer = gd.closest('#notebook-container');\n",
              "if (notebookContainer) {{\n",
              "    x.observe(notebookContainer, {childList: true});\n",
              "}}\n",
              "\n",
              "// Listen for the clearing of the current output cell\n",
              "var outputEl = gd.closest('.output');\n",
              "if (outputEl) {{\n",
              "    x.observe(outputEl, {childList: true});\n",
              "}}\n",
              "\n",
              "                        })                };                            </script>        </div>\n",
              "</body>\n",
              "</html>"
            ]
          },
          "metadata": {}
        }
      ]
    }
  ]
}